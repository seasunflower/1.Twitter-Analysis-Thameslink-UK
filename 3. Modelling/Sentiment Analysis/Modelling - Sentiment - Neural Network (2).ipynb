{
 "cells": [
  {
   "cell_type": "code",
   "execution_count": 1,
   "id": "4ee4612f-7e9e-4e00-b46f-119da8ee57e9",
   "metadata": {},
   "outputs": [],
   "source": [
    "import pandas as pd\n",
    "import numpy as np\n",
    "\n",
    "from sklearn.preprocessing import LabelEncoder\n",
    "from sklearn.metrics import accuracy_score\n",
    "from sklearn.metrics import confusion_matrix, classification_report\n",
    "from sklearn.metrics import precision_score, recall_score, f1_score\n",
    "from sklearn.utils import class_weight\n",
    "\n",
    "import matplotlib.pyplot as plt\n",
    "\n",
    "import nltk \n",
    "from nltk.stem import WordNetLemmatizer\n",
    "\n",
    "import re\n",
    "import codecs\n",
    "import unidecode\n",
    "\n",
    "import spacy\n",
    "from spacy.lang.en.stop_words import STOP_WORDS\n",
    "\n",
    "from keras.preprocessing.text import Tokenizer\n",
    "from keras_preprocessing.sequence import pad_sequences\n",
    "from keras.utils import np_utils\n",
    "from keras.models import Sequential\n",
    "from keras import layers\n",
    "\n"
   ]
  },
  {
   "cell_type": "markdown",
   "id": "15c96ff8-f6a3-45e5-b672-eeec64363032",
   "metadata": {
    "tags": []
   },
   "source": [
    "# Import data"
   ]
  },
  {
   "cell_type": "code",
   "execution_count": 2,
   "id": "7ecaa2f3-8c00-443d-aa2f-c187d23b00f6",
   "metadata": {},
   "outputs": [
    {
     "data": {
      "text/html": [
       "<div>\n",
       "<style scoped>\n",
       "    .dataframe tbody tr th:only-of-type {\n",
       "        vertical-align: middle;\n",
       "    }\n",
       "\n",
       "    .dataframe tbody tr th {\n",
       "        vertical-align: top;\n",
       "    }\n",
       "\n",
       "    .dataframe thead th {\n",
       "        text-align: right;\n",
       "    }\n",
       "</style>\n",
       "<table border=\"1\" class=\"dataframe\">\n",
       "  <thead>\n",
       "    <tr style=\"text-align: right;\">\n",
       "      <th></th>\n",
       "      <th>text</th>\n",
       "      <th>sentiment</th>\n",
       "    </tr>\n",
       "  </thead>\n",
       "  <tbody>\n",
       "    <tr>\n",
       "      <th>0</th>\n",
       "      <td>⚠️ #TLUpdates - Due to a safety inspection of ...</td>\n",
       "      <td>negative</td>\n",
       "    </tr>\n",
       "    <tr>\n",
       "      <th>1</th>\n",
       "      <td>@TLRailUK On the announcement we were told tha...</td>\n",
       "      <td>negative</td>\n",
       "    </tr>\n",
       "    <tr>\n",
       "      <th>2</th>\n",
       "      <td>1418 Thameslink train to Horsham: On time - pl...</td>\n",
       "      <td>neutral</td>\n",
       "    </tr>\n",
       "    <tr>\n",
       "      <th>3</th>\n",
       "      <td>This morning's Thameslink train is covered in ...</td>\n",
       "      <td>neutral</td>\n",
       "    </tr>\n",
       "    <tr>\n",
       "      <th>4</th>\n",
       "      <td>@TLRailUK I think a bit before Mill Hill, but ...</td>\n",
       "      <td>negative</td>\n",
       "    </tr>\n",
       "    <tr>\n",
       "      <th>...</th>\n",
       "      <td>...</td>\n",
       "      <td>...</td>\n",
       "    </tr>\n",
       "    <tr>\n",
       "      <th>11373</th>\n",
       "      <td>@TLRailUK She was the ticket lady at Arlesey t...</td>\n",
       "      <td>positive</td>\n",
       "    </tr>\n",
       "    <tr>\n",
       "      <th>11374</th>\n",
       "      <td>@TLRailUK perhaps you could have your train dr...</td>\n",
       "      <td>negative</td>\n",
       "    </tr>\n",
       "    <tr>\n",
       "      <th>11375</th>\n",
       "      <td>1323 Great Northern train to Moorgate: Delayed...</td>\n",
       "      <td>neutral</td>\n",
       "    </tr>\n",
       "    <tr>\n",
       "      <th>11376</th>\n",
       "      <td>Now stuck at harpenden. Not meant to stop here...</td>\n",
       "      <td>negative</td>\n",
       "    </tr>\n",
       "    <tr>\n",
       "      <th>11377</th>\n",
       "      <td>@TLRailUK Looks like, 6:44 is now gonna stop a...</td>\n",
       "      <td>negative</td>\n",
       "    </tr>\n",
       "  </tbody>\n",
       "</table>\n",
       "<p>11378 rows × 2 columns</p>\n",
       "</div>"
      ],
      "text/plain": [
       "                                                    text sentiment\n",
       "0      ⚠️ #TLUpdates - Due to a safety inspection of ...  negative\n",
       "1      @TLRailUK On the announcement we were told tha...  negative\n",
       "2      1418 Thameslink train to Horsham: On time - pl...   neutral\n",
       "3      This morning's Thameslink train is covered in ...   neutral\n",
       "4      @TLRailUK I think a bit before Mill Hill, but ...  negative\n",
       "...                                                  ...       ...\n",
       "11373  @TLRailUK She was the ticket lady at Arlesey t...  positive\n",
       "11374  @TLRailUK perhaps you could have your train dr...  negative\n",
       "11375  1323 Great Northern train to Moorgate: Delayed...   neutral\n",
       "11376  Now stuck at harpenden. Not meant to stop here...  negative\n",
       "11377  @TLRailUK Looks like, 6:44 is now gonna stop a...  negative\n",
       "\n",
       "[11378 rows x 2 columns]"
      ]
     },
     "execution_count": 2,
     "metadata": {},
     "output_type": "execute_result"
    }
   ],
   "source": [
    "train = pd.read_csv('sentiment_train.csv', names=['index','text','sentiment'], header=0)\n",
    "train.drop('index', axis=1, inplace=True)\n",
    "train"
   ]
  },
  {
   "cell_type": "code",
   "execution_count": 3,
   "id": "4192052d-e6e0-4d5c-8402-78e4c438bf2a",
   "metadata": {},
   "outputs": [
    {
     "data": {
      "text/html": [
       "<div>\n",
       "<style scoped>\n",
       "    .dataframe tbody tr th:only-of-type {\n",
       "        vertical-align: middle;\n",
       "    }\n",
       "\n",
       "    .dataframe tbody tr th {\n",
       "        vertical-align: top;\n",
       "    }\n",
       "\n",
       "    .dataframe thead th {\n",
       "        text-align: right;\n",
       "    }\n",
       "</style>\n",
       "<table border=\"1\" class=\"dataframe\">\n",
       "  <thead>\n",
       "    <tr style=\"text-align: right;\">\n",
       "      <th></th>\n",
       "      <th>text</th>\n",
       "      <th>sentiment</th>\n",
       "    </tr>\n",
       "  </thead>\n",
       "  <tbody>\n",
       "    <tr>\n",
       "      <th>0</th>\n",
       "      <td>What dirt does @GatwickExpress have on @TLRail...</td>\n",
       "      <td>negative</td>\n",
       "    </tr>\n",
       "    <tr>\n",
       "      <th>1</th>\n",
       "      <td>@EmilyTrenouth @TLRailUK Can’t see a carriage ...</td>\n",
       "      <td>neutral</td>\n",
       "    </tr>\n",
       "    <tr>\n",
       "      <th>2</th>\n",
       "      <td>@TLRailUK The 18:57 Cambridge to KingsX was de...</td>\n",
       "      <td>negative</td>\n",
       "    </tr>\n",
       "    <tr>\n",
       "      <th>3</th>\n",
       "      <td>@SouthernRailUK @TLRailUK @GatwickExpress @MET...</td>\n",
       "      <td>neutral</td>\n",
       "    </tr>\n",
       "    <tr>\n",
       "      <th>4</th>\n",
       "      <td>@TLRailUK Thank you for coming back to me. It'...</td>\n",
       "      <td>negative</td>\n",
       "    </tr>\n",
       "    <tr>\n",
       "      <th>...</th>\n",
       "      <td>...</td>\n",
       "      <td>...</td>\n",
       "    </tr>\n",
       "    <tr>\n",
       "      <th>2003</th>\n",
       "      <td>@TLRailUK Thanks.......It said it arrived ? Ca...</td>\n",
       "      <td>negative</td>\n",
       "    </tr>\n",
       "    <tr>\n",
       "      <th>2004</th>\n",
       "      <td>@TLRailUK Can anyone there explain to me why I...</td>\n",
       "      <td>neutral</td>\n",
       "    </tr>\n",
       "    <tr>\n",
       "      <th>2005</th>\n",
       "      <td>2005 Thameslink train to Gatwick Airport: Dela...</td>\n",
       "      <td>neutral</td>\n",
       "    </tr>\n",
       "    <tr>\n",
       "      <th>2006</th>\n",
       "      <td>.@networkrail @TLRailUK which person designed ...</td>\n",
       "      <td>negative</td>\n",
       "    </tr>\n",
       "    <tr>\n",
       "      <th>2007</th>\n",
       "      <td>. @TLRailUK we're sorry your train was delay b...</td>\n",
       "      <td>negative</td>\n",
       "    </tr>\n",
       "  </tbody>\n",
       "</table>\n",
       "<p>2008 rows × 2 columns</p>\n",
       "</div>"
      ],
      "text/plain": [
       "                                                   text sentiment\n",
       "0     What dirt does @GatwickExpress have on @TLRail...  negative\n",
       "1     @EmilyTrenouth @TLRailUK Can’t see a carriage ...   neutral\n",
       "2     @TLRailUK The 18:57 Cambridge to KingsX was de...  negative\n",
       "3     @SouthernRailUK @TLRailUK @GatwickExpress @MET...   neutral\n",
       "4     @TLRailUK Thank you for coming back to me. It'...  negative\n",
       "...                                                 ...       ...\n",
       "2003  @TLRailUK Thanks.......It said it arrived ? Ca...  negative\n",
       "2004  @TLRailUK Can anyone there explain to me why I...   neutral\n",
       "2005  2005 Thameslink train to Gatwick Airport: Dela...   neutral\n",
       "2006  .@networkrail @TLRailUK which person designed ...  negative\n",
       "2007  . @TLRailUK we're sorry your train was delay b...  negative\n",
       "\n",
       "[2008 rows x 2 columns]"
      ]
     },
     "execution_count": 3,
     "metadata": {},
     "output_type": "execute_result"
    }
   ],
   "source": [
    "validation = pd.read_csv('sentiment_validation.csv', names=['index','text','sentiment'], header=0)\n",
    "validation.drop('index', axis=1, inplace=True)\n",
    "validation"
   ]
  },
  {
   "cell_type": "code",
   "execution_count": 4,
   "id": "f389b51c-180e-4cbf-a21a-bb83f4a6d9ea",
   "metadata": {},
   "outputs": [
    {
     "data": {
      "text/html": [
       "<div>\n",
       "<style scoped>\n",
       "    .dataframe tbody tr th:only-of-type {\n",
       "        vertical-align: middle;\n",
       "    }\n",
       "\n",
       "    .dataframe tbody tr th {\n",
       "        vertical-align: top;\n",
       "    }\n",
       "\n",
       "    .dataframe thead th {\n",
       "        text-align: right;\n",
       "    }\n",
       "</style>\n",
       "<table border=\"1\" class=\"dataframe\">\n",
       "  <thead>\n",
       "    <tr style=\"text-align: right;\">\n",
       "      <th></th>\n",
       "      <th>text</th>\n",
       "      <th>sentiment</th>\n",
       "    </tr>\n",
       "  </thead>\n",
       "  <tbody>\n",
       "    <tr>\n",
       "      <th>0</th>\n",
       "      <td>#TLUpdates - We have been advised by our colle...</td>\n",
       "      <td>neutral</td>\n",
       "    </tr>\n",
       "    <tr>\n",
       "      <th>1</th>\n",
       "      <td>@TLRailUK Aiming ... like chucking a hot dog u...</td>\n",
       "      <td>negative</td>\n",
       "    </tr>\n",
       "    <tr>\n",
       "      <th>2</th>\n",
       "      <td>Long time since I’ve had to get a @TLRailUK tr...</td>\n",
       "      <td>negative</td>\n",
       "    </tr>\n",
       "    <tr>\n",
       "      <th>3</th>\n",
       "      <td>@thomasbrake @TLRailUK Can I ask for your view...</td>\n",
       "      <td>neutral</td>\n",
       "    </tr>\n",
       "    <tr>\n",
       "      <th>4</th>\n",
       "      <td>@TLRailUK how is it even possible for you to c...</td>\n",
       "      <td>negative</td>\n",
       "    </tr>\n",
       "    <tr>\n",
       "      <th>...</th>\n",
       "      <td>...</td>\n",
       "      <td>...</td>\n",
       "    </tr>\n",
       "    <tr>\n",
       "      <th>2358</th>\n",
       "      <td>⚠️ #TLUpdates - Services are beginning to retu...</td>\n",
       "      <td>negative</td>\n",
       "    </tr>\n",
       "    <tr>\n",
       "      <th>2359</th>\n",
       "      <td>⚠️#TLUpdates - Train services running through ...</td>\n",
       "      <td>neutral</td>\n",
       "    </tr>\n",
       "    <tr>\n",
       "      <th>2360</th>\n",
       "      <td>@LiveCommute @tlupdates @WorkerRailway @SaaSyS...</td>\n",
       "      <td>negative</td>\n",
       "    </tr>\n",
       "    <tr>\n",
       "      <th>2361</th>\n",
       "      <td>@TLRailUK Hey, how do I do the ‘return unused ...</td>\n",
       "      <td>neutral</td>\n",
       "    </tr>\n",
       "    <tr>\n",
       "      <th>2362</th>\n",
       "      <td>@TLRailUK @StPancrasInt SCREECHING is an excel...</td>\n",
       "      <td>negative</td>\n",
       "    </tr>\n",
       "  </tbody>\n",
       "</table>\n",
       "<p>2363 rows × 2 columns</p>\n",
       "</div>"
      ],
      "text/plain": [
       "                                                   text sentiment\n",
       "0     #TLUpdates - We have been advised by our colle...   neutral\n",
       "1     @TLRailUK Aiming ... like chucking a hot dog u...  negative\n",
       "2     Long time since I’ve had to get a @TLRailUK tr...  negative\n",
       "3     @thomasbrake @TLRailUK Can I ask for your view...   neutral\n",
       "4     @TLRailUK how is it even possible for you to c...  negative\n",
       "...                                                 ...       ...\n",
       "2358  ⚠️ #TLUpdates - Services are beginning to retu...  negative\n",
       "2359  ⚠️#TLUpdates - Train services running through ...   neutral\n",
       "2360  @LiveCommute @tlupdates @WorkerRailway @SaaSyS...  negative\n",
       "2361  @TLRailUK Hey, how do I do the ‘return unused ...   neutral\n",
       "2362  @TLRailUK @StPancrasInt SCREECHING is an excel...  negative\n",
       "\n",
       "[2363 rows x 2 columns]"
      ]
     },
     "execution_count": 4,
     "metadata": {},
     "output_type": "execute_result"
    }
   ],
   "source": [
    "test = pd.read_csv('sentiment_test.csv', names=['index','text','sentiment'], header=0)\n",
    "test.drop('index', axis=1, inplace=True)\n",
    "test"
   ]
  },
  {
   "cell_type": "markdown",
   "id": "5adb20e1-a6b3-431c-b657-3a80450214a9",
   "metadata": {
    "tags": []
   },
   "source": [
    "# CLEANING TWEET CONTENT"
   ]
  },
  {
   "cell_type": "code",
   "execution_count": 5,
   "id": "2677c9f4-3c1d-420f-b2f1-cddf32cfcbbd",
   "metadata": {},
   "outputs": [
    {
     "name": "stderr",
     "output_type": "stream",
     "text": [
      "C:\\Users\\Quynh Pham\\AppData\\Roaming\\Python\\Python39\\site-packages\\spacy\\util.py:877: UserWarning: [W095] Model 'en_core_web_sm' (3.3.0) was trained with spaCy v3.3 and may not be 100% compatible with the current version (3.4.3). If you see errors or degraded performance, download a newer compatible model or retrain your custom model with the current spaCy version. For more details and available updates, run: python -m spacy validate\n",
      "  warnings.warn(warn_msg)\n"
     ]
    }
   ],
   "source": [
    "# load spacy English language model trained based on web and social media texts\n",
    "# add more stop words to the list of stop words list in spacy\n",
    "\n",
    "nlp = spacy.load('en_core_web_sm')\n",
    "nlp.Defaults.stop_words |= {'thameslink','tlupdates','gtrailuk','tlrailuk','govia', 'gtr'}\n",
    "nlp.Defaults.stop_words.remove('not')"
   ]
  },
  {
   "cell_type": "code",
   "execution_count": 6,
   "id": "2e60922a-fd59-40f1-89f8-6d4bc7657d8f",
   "metadata": {},
   "outputs": [
    {
     "name": "stdout",
     "output_type": "stream",
     "text": [
      "331\n",
      "{'whence', 'namely', 'he', 'hereafter', 'becoming', 'whenever', 'none', 'when', 'three', 'whereas', 'four', 'others', 'himself', 'be', 'regarding', 'why', 'eight', 'noone', 'had', 'always', 'has', 'something', 'elsewhere', 'else', 'well', 'at', 'everyone', 'she', 'nor', 'from', 'hence', 'around', 'more', 'were', 'under', 'keep', 'becomes', 'about', 'anyone', 'been', 'though', 'fifty', 'they', 'on', 'seems', 'am', 'without', 'than', 'until', 'that', 'below', 'through', \"'ve\", 'mine', '’d', 'another', 'last', 'and', 'quite', 'should', 'out', 'already', 'these', 'no', 'some', 'then', 'doing', 'off', 'sometimes', 'as', 'therefore', 'used', 'since', 'also', 'us', 'their', 'beside', 'this', 'whom', 'formerly', 'became', 'could', 'in', 'upon', 'somewhere', 'yours', 'cannot', '‘d', '‘s', 'enough', \"'ll\", 'did', 'wherever', 'very', 'herein', 'most', 'if', 'otherwise', 'somehow', 'thus', 'are', 'rather', 're', 'do', 'thru', 'tlupdates', 'such', 'while', 'see', 'seemed', 'who', 'anyway', 'ours', 'ten', 'first', 'six', 'would', 'into', 'seem', 'was', 'side', 'nine', \"'m\", 'here', 'hers', 'above', 'themselves', 'make', 'just', 'after', 'fifteen', 'say', 'indeed', 'per', 'done', 'being', 'beforehand', 'perhaps', 'so', 'further', 'does', 'alone', 'yet', 'them', 'via', 'together', 'a', 'i', 'of', 'ca', 'front', 'whereby', 'anyhow', 'call', 'twenty', 'two', 'thereupon', '‘ll', 'few', 'any', 'nobody', 'anywhere', 'by', 'five', 'him', 'might', 'please', 'herself', 'where', 'become', 'although', 'much', 'unless', 'between', '‘re', 'whether', 'have', 'hundred', 'beyond', 'our', 'once', 'what', 'someone', 'several', 'again', 'get', 'onto', 'whatever', 'there', 'gtrailuk', 'wherein', 'an', '’ll', \"n't\", 'serious', 'still', 'nothing', 'those', 'to', 'move', 'using', 'name', 'your', 'but', 'bottom', 'various', '’m', 'whither', 'whoever', 'anything', 'up', 'meanwhile', 'over', 'his', 'along', \"'d\", 'hereupon', 'how', 'will', 'either', 'many', 'sixty', 'across', 'whereupon', 'third', 'own', 'for', '‘m', 'therein', 'towards', 'tlrailuk', 'itself', 'because', 'least', 'seeming', 'the', 'afterwards', 'other', '’re', 'her', 'each', 'whose', 'give', 'except', '’ve', 'really', 'sometime', 'next', '‘ve', 'eleven', 'moreover', 'former', \"'re\", 'throughout', 'behind', 'among', 'it', 'govia', 'due', 'everything', 'take', 'we', 'forty', 'whereafter', 'thereafter', 'everywhere', 'may', 'same', 'me', 'within', 'ourselves', 'whole', '’s', 'part', 'however', 'even', 'almost', 'amongst', 'back', 'is', 'all', 'during', 'toward', 'now', 'must', 'twelve', 'mostly', 'myself', 'neither', 'one', 'every', 'full', 'nowhere', 'top', 'gtr', 'made', 'often', 'show', 'thameslink', 'besides', 'amount', 'its', 'latterly', 'my', 'go', 'never', 'latter', 'too', 'down', 'less', 'ever', 'n’t', 'nevertheless', 'with', 'hereby', 'yourself', 'both', 'before', 'put', 'against', 'thereby', 'you', 'empty', \"'s\", 'thence', 'n‘t', 'can', 'which', 'only', 'yourselves', 'or'}\n"
     ]
    }
   ],
   "source": [
    "STOP_WORDS\n",
    "\n",
    "print(len(STOP_WORDS))\n",
    "print(STOP_WORDS)"
   ]
  },
  {
   "cell_type": "code",
   "execution_count": 7,
   "id": "2230ac4d-b36f-445f-8011-fb2787cbadfb",
   "metadata": {},
   "outputs": [],
   "source": [
    "# Create a function to clean tweet content\n",
    "# Tweet will be cleaned by the following steps:\n",
    "# 1. Remove emoji\n",
    "# 2. Remove #thameslink, #TLUpdates, @gtrailuk, @TLRailUK\n",
    "# 3. Turn word to lowercase\n",
    "# 4. Remove Twitter @usernames\n",
    "# 5. Remove hyperlink\n",
    "# 6. Remove punctuations\n",
    "# return clean text\n",
    "\n",
    "def cleanText(text):\n",
    "    #create a list of emojis pattern\n",
    "    emoji_pattern = re.compile(pattern = \"[\"\n",
    "        u\"\\U0001F600-\\U0001F64F\"  # emoticons\n",
    "        u\"\\U0001F300-\\U0001F5FF\"  # symbols & pictographs\n",
    "        u\"\\U0001F680-\\U0001F6FF\"  # transport & map symbols\n",
    "        u\"\\U0001F1E0-\\U0001F1FF\"  # flags (iOS)\n",
    "                                   \"]+\", flags = re.UNICODE)\n",
    "    text = re.sub(emoji_pattern,'', text) #remove emoji    \n",
    "    text = re.sub(r'#thameslink','',text) #remove #thameslink\n",
    "    text = re.sub(r'#TLUpdates','',text) #remove #TLUpdates\n",
    "    text = re.sub(r'@gtrailuk','',text) #remove @gtrailuk\n",
    "    text = re.sub(r'@TLRailUK','',text) #remove @TLRailUK\n",
    "    \n",
    "    text = text.lower() #turn every capitalization to lowercase    \n",
    "    text = re.sub(r'@[A-Za-z0-9\\_]+','',text) #remove @usernames, format of a username: alphanumeric characters (letters A-Z, numbers 0-9) with the exception of underscores\n",
    "    text = re.sub(r'https?:\\/\\/\\S+','',text) #remove hyperlink\n",
    "    text = re.sub(r'\\b\\d+\\b','',text) #remove numbers\n",
    "    text = re.sub(r'[^\\w\\s]','',text) #remove punctuations\n",
    "    return text"
   ]
  },
  {
   "cell_type": "code",
   "execution_count": 8,
   "id": "db560345-1449-4a64-8ba4-edebe75c40c2",
   "metadata": {},
   "outputs": [],
   "source": [
    "# Clean the tweet content\n",
    "# Use for loop to run through every tweets in the clean dataset\n",
    "# Cleaning steps include:\n",
    "# 1. Basic clean (i.e. remove unnecessary emojis, patterns, punctuation...) using the cleanText function above\n",
    "# 2. Tokenization: break sentence into words\n",
    "# 3. Remove stop words\n",
    "# 4. Lemmatization: strip words down to its root/stem\n",
    "# return a DataFrame with clean words\n",
    "\n",
    "def cleanSentence(main_df):\n",
    "    df = main_df.copy()\n",
    "    lemmatizer = WordNetLemmatizer()\n",
    "\n",
    "    for index, row in df.iterrows():\n",
    "        filter_sentence = []\n",
    "        sentence = cleanText(row['text']) # call our function above to clean user text\n",
    "        words = nltk.word_tokenize(sentence) # tokenization\n",
    "        words = [w for w in words if not w in STOP_WORDS] # stopwords removal\n",
    "        for word in words:\n",
    "            filter_sentence.append(lemmatizer.lemmatize(word)) # lemmatization\n",
    "        clean_sentence = ' '.join(str(x) for x in filter_sentence if not len(x) == 1)\n",
    "        df.at[index,'text'] = clean_sentence  \n",
    "    return df"
   ]
  },
  {
   "cell_type": "markdown",
   "id": "b953610d-66a4-4f7c-9491-2a9454d46725",
   "metadata": {},
   "source": [
    "# SENTIMENT ANALYSIS WITH NEURAL NETWORK"
   ]
  },
  {
   "cell_type": "markdown",
   "id": "89afb6df-2f19-4920-ad02-ccf163155967",
   "metadata": {
    "tags": []
   },
   "source": [
    "# Create dataset for Neural Network"
   ]
  },
  {
   "cell_type": "code",
   "execution_count": 9,
   "id": "020fccf7-7ed5-4811-938f-fd9d28fcd6fa",
   "metadata": {},
   "outputs": [
    {
     "data": {
      "text/html": [
       "<div>\n",
       "<style scoped>\n",
       "    .dataframe tbody tr th:only-of-type {\n",
       "        vertical-align: middle;\n",
       "    }\n",
       "\n",
       "    .dataframe tbody tr th {\n",
       "        vertical-align: top;\n",
       "    }\n",
       "\n",
       "    .dataframe thead th {\n",
       "        text-align: right;\n",
       "    }\n",
       "</style>\n",
       "<table border=\"1\" class=\"dataframe\">\n",
       "  <thead>\n",
       "    <tr style=\"text-align: right;\">\n",
       "      <th></th>\n",
       "      <th>text</th>\n",
       "      <th>sentiment</th>\n",
       "    </tr>\n",
       "  </thead>\n",
       "  <tbody>\n",
       "    <tr>\n",
       "      <th>0</th>\n",
       "      <td>What dirt does @GatwickExpress have on @TLRail...</td>\n",
       "      <td>negative</td>\n",
       "    </tr>\n",
       "    <tr>\n",
       "      <th>1</th>\n",
       "      <td>@EmilyTrenouth @TLRailUK Can’t see a carriage ...</td>\n",
       "      <td>neutral</td>\n",
       "    </tr>\n",
       "    <tr>\n",
       "      <th>2</th>\n",
       "      <td>@TLRailUK The 18:57 Cambridge to KingsX was de...</td>\n",
       "      <td>negative</td>\n",
       "    </tr>\n",
       "    <tr>\n",
       "      <th>3</th>\n",
       "      <td>@SouthernRailUK @TLRailUK @GatwickExpress @MET...</td>\n",
       "      <td>neutral</td>\n",
       "    </tr>\n",
       "    <tr>\n",
       "      <th>4</th>\n",
       "      <td>@TLRailUK Thank you for coming back to me. It'...</td>\n",
       "      <td>negative</td>\n",
       "    </tr>\n",
       "    <tr>\n",
       "      <th>...</th>\n",
       "      <td>...</td>\n",
       "      <td>...</td>\n",
       "    </tr>\n",
       "    <tr>\n",
       "      <th>2003</th>\n",
       "      <td>@TLRailUK Thanks.......It said it arrived ? Ca...</td>\n",
       "      <td>negative</td>\n",
       "    </tr>\n",
       "    <tr>\n",
       "      <th>2004</th>\n",
       "      <td>@TLRailUK Can anyone there explain to me why I...</td>\n",
       "      <td>neutral</td>\n",
       "    </tr>\n",
       "    <tr>\n",
       "      <th>2005</th>\n",
       "      <td>2005 Thameslink train to Gatwick Airport: Dela...</td>\n",
       "      <td>neutral</td>\n",
       "    </tr>\n",
       "    <tr>\n",
       "      <th>2006</th>\n",
       "      <td>.@networkrail @TLRailUK which person designed ...</td>\n",
       "      <td>negative</td>\n",
       "    </tr>\n",
       "    <tr>\n",
       "      <th>2007</th>\n",
       "      <td>. @TLRailUK we're sorry your train was delay b...</td>\n",
       "      <td>negative</td>\n",
       "    </tr>\n",
       "  </tbody>\n",
       "</table>\n",
       "<p>2008 rows × 2 columns</p>\n",
       "</div>"
      ],
      "text/plain": [
       "                                                   text sentiment\n",
       "0     What dirt does @GatwickExpress have on @TLRail...  negative\n",
       "1     @EmilyTrenouth @TLRailUK Can’t see a carriage ...   neutral\n",
       "2     @TLRailUK The 18:57 Cambridge to KingsX was de...  negative\n",
       "3     @SouthernRailUK @TLRailUK @GatwickExpress @MET...   neutral\n",
       "4     @TLRailUK Thank you for coming back to me. It'...  negative\n",
       "...                                                 ...       ...\n",
       "2003  @TLRailUK Thanks.......It said it arrived ? Ca...  negative\n",
       "2004  @TLRailUK Can anyone there explain to me why I...   neutral\n",
       "2005  2005 Thameslink train to Gatwick Airport: Dela...   neutral\n",
       "2006  .@networkrail @TLRailUK which person designed ...  negative\n",
       "2007  . @TLRailUK we're sorry your train was delay b...  negative\n",
       "\n",
       "[2008 rows x 2 columns]"
      ]
     },
     "execution_count": 9,
     "metadata": {},
     "output_type": "execute_result"
    }
   ],
   "source": [
    "validation_nn = validation.copy()\n",
    "#validation_nn = cleanSentence(validation_nn)\n",
    "validation_nn"
   ]
  },
  {
   "cell_type": "markdown",
   "id": "3216f566-3819-496a-9fa3-31cbb0de014d",
   "metadata": {},
   "source": [
    "# right now, the model perform much better on unclean text. Clean text can always been done by uncheck the hastags below\n",
    "\n",
    "train_temp = cleanSentence(train.copy())\n",
    "validation_temp = cleanSentence(validation.copy())\n",
    "train_nn = pd.concat([train_temp,validation_temp])\n",
    "train_nn"
   ]
  },
  {
   "cell_type": "code",
   "execution_count": 10,
   "id": "3aa018c4-8934-417a-98c5-8a2bc46b7544",
   "metadata": {},
   "outputs": [
    {
     "data": {
      "text/html": [
       "<div>\n",
       "<style scoped>\n",
       "    .dataframe tbody tr th:only-of-type {\n",
       "        vertical-align: middle;\n",
       "    }\n",
       "\n",
       "    .dataframe tbody tr th {\n",
       "        vertical-align: top;\n",
       "    }\n",
       "\n",
       "    .dataframe thead th {\n",
       "        text-align: right;\n",
       "    }\n",
       "</style>\n",
       "<table border=\"1\" class=\"dataframe\">\n",
       "  <thead>\n",
       "    <tr style=\"text-align: right;\">\n",
       "      <th></th>\n",
       "      <th>text</th>\n",
       "      <th>sentiment</th>\n",
       "    </tr>\n",
       "  </thead>\n",
       "  <tbody>\n",
       "    <tr>\n",
       "      <th>0</th>\n",
       "      <td>⚠️ #TLUpdates - Due to a safety inspection of ...</td>\n",
       "      <td>negative</td>\n",
       "    </tr>\n",
       "    <tr>\n",
       "      <th>1</th>\n",
       "      <td>@TLRailUK On the announcement we were told tha...</td>\n",
       "      <td>negative</td>\n",
       "    </tr>\n",
       "    <tr>\n",
       "      <th>2</th>\n",
       "      <td>1418 Thameslink train to Horsham: On time - pl...</td>\n",
       "      <td>neutral</td>\n",
       "    </tr>\n",
       "    <tr>\n",
       "      <th>3</th>\n",
       "      <td>This morning's Thameslink train is covered in ...</td>\n",
       "      <td>neutral</td>\n",
       "    </tr>\n",
       "    <tr>\n",
       "      <th>4</th>\n",
       "      <td>@TLRailUK I think a bit before Mill Hill, but ...</td>\n",
       "      <td>negative</td>\n",
       "    </tr>\n",
       "    <tr>\n",
       "      <th>...</th>\n",
       "      <td>...</td>\n",
       "      <td>...</td>\n",
       "    </tr>\n",
       "    <tr>\n",
       "      <th>11373</th>\n",
       "      <td>@TLRailUK She was the ticket lady at Arlesey t...</td>\n",
       "      <td>positive</td>\n",
       "    </tr>\n",
       "    <tr>\n",
       "      <th>11374</th>\n",
       "      <td>@TLRailUK perhaps you could have your train dr...</td>\n",
       "      <td>negative</td>\n",
       "    </tr>\n",
       "    <tr>\n",
       "      <th>11375</th>\n",
       "      <td>1323 Great Northern train to Moorgate: Delayed...</td>\n",
       "      <td>neutral</td>\n",
       "    </tr>\n",
       "    <tr>\n",
       "      <th>11376</th>\n",
       "      <td>Now stuck at harpenden. Not meant to stop here...</td>\n",
       "      <td>negative</td>\n",
       "    </tr>\n",
       "    <tr>\n",
       "      <th>11377</th>\n",
       "      <td>@TLRailUK Looks like, 6:44 is now gonna stop a...</td>\n",
       "      <td>negative</td>\n",
       "    </tr>\n",
       "  </tbody>\n",
       "</table>\n",
       "<p>11378 rows × 2 columns</p>\n",
       "</div>"
      ],
      "text/plain": [
       "                                                    text sentiment\n",
       "0      ⚠️ #TLUpdates - Due to a safety inspection of ...  negative\n",
       "1      @TLRailUK On the announcement we were told tha...  negative\n",
       "2      1418 Thameslink train to Horsham: On time - pl...   neutral\n",
       "3      This morning's Thameslink train is covered in ...   neutral\n",
       "4      @TLRailUK I think a bit before Mill Hill, but ...  negative\n",
       "...                                                  ...       ...\n",
       "11373  @TLRailUK She was the ticket lady at Arlesey t...  positive\n",
       "11374  @TLRailUK perhaps you could have your train dr...  negative\n",
       "11375  1323 Great Northern train to Moorgate: Delayed...   neutral\n",
       "11376  Now stuck at harpenden. Not meant to stop here...  negative\n",
       "11377  @TLRailUK Looks like, 6:44 is now gonna stop a...  negative\n",
       "\n",
       "[11378 rows x 2 columns]"
      ]
     },
     "execution_count": 10,
     "metadata": {},
     "output_type": "execute_result"
    }
   ],
   "source": [
    "# right now, the model perform much better on unclean text. Clean text can always been done by uncheck the hastags below\n",
    "\n",
    "train_nn = train.copy()\n",
    "train_nn"
   ]
  },
  {
   "cell_type": "code",
   "execution_count": 11,
   "id": "83979f9e-afea-4cea-a0e1-ebb822b416ae",
   "metadata": {},
   "outputs": [
    {
     "data": {
      "text/html": [
       "<div>\n",
       "<style scoped>\n",
       "    .dataframe tbody tr th:only-of-type {\n",
       "        vertical-align: middle;\n",
       "    }\n",
       "\n",
       "    .dataframe tbody tr th {\n",
       "        vertical-align: top;\n",
       "    }\n",
       "\n",
       "    .dataframe thead th {\n",
       "        text-align: right;\n",
       "    }\n",
       "</style>\n",
       "<table border=\"1\" class=\"dataframe\">\n",
       "  <thead>\n",
       "    <tr style=\"text-align: right;\">\n",
       "      <th></th>\n",
       "      <th>text</th>\n",
       "      <th>sentiment</th>\n",
       "    </tr>\n",
       "  </thead>\n",
       "  <tbody>\n",
       "    <tr>\n",
       "      <th>0</th>\n",
       "      <td>#TLUpdates - We have been advised by our colle...</td>\n",
       "      <td>neutral</td>\n",
       "    </tr>\n",
       "    <tr>\n",
       "      <th>1</th>\n",
       "      <td>@TLRailUK Aiming ... like chucking a hot dog u...</td>\n",
       "      <td>negative</td>\n",
       "    </tr>\n",
       "    <tr>\n",
       "      <th>2</th>\n",
       "      <td>Long time since I’ve had to get a @TLRailUK tr...</td>\n",
       "      <td>negative</td>\n",
       "    </tr>\n",
       "    <tr>\n",
       "      <th>3</th>\n",
       "      <td>@thomasbrake @TLRailUK Can I ask for your view...</td>\n",
       "      <td>neutral</td>\n",
       "    </tr>\n",
       "    <tr>\n",
       "      <th>4</th>\n",
       "      <td>@TLRailUK how is it even possible for you to c...</td>\n",
       "      <td>negative</td>\n",
       "    </tr>\n",
       "    <tr>\n",
       "      <th>...</th>\n",
       "      <td>...</td>\n",
       "      <td>...</td>\n",
       "    </tr>\n",
       "    <tr>\n",
       "      <th>2358</th>\n",
       "      <td>⚠️ #TLUpdates - Services are beginning to retu...</td>\n",
       "      <td>negative</td>\n",
       "    </tr>\n",
       "    <tr>\n",
       "      <th>2359</th>\n",
       "      <td>⚠️#TLUpdates - Train services running through ...</td>\n",
       "      <td>neutral</td>\n",
       "    </tr>\n",
       "    <tr>\n",
       "      <th>2360</th>\n",
       "      <td>@LiveCommute @tlupdates @WorkerRailway @SaaSyS...</td>\n",
       "      <td>negative</td>\n",
       "    </tr>\n",
       "    <tr>\n",
       "      <th>2361</th>\n",
       "      <td>@TLRailUK Hey, how do I do the ‘return unused ...</td>\n",
       "      <td>neutral</td>\n",
       "    </tr>\n",
       "    <tr>\n",
       "      <th>2362</th>\n",
       "      <td>@TLRailUK @StPancrasInt SCREECHING is an excel...</td>\n",
       "      <td>negative</td>\n",
       "    </tr>\n",
       "  </tbody>\n",
       "</table>\n",
       "<p>2363 rows × 2 columns</p>\n",
       "</div>"
      ],
      "text/plain": [
       "                                                   text sentiment\n",
       "0     #TLUpdates - We have been advised by our colle...   neutral\n",
       "1     @TLRailUK Aiming ... like chucking a hot dog u...  negative\n",
       "2     Long time since I’ve had to get a @TLRailUK tr...  negative\n",
       "3     @thomasbrake @TLRailUK Can I ask for your view...   neutral\n",
       "4     @TLRailUK how is it even possible for you to c...  negative\n",
       "...                                                 ...       ...\n",
       "2358  ⚠️ #TLUpdates - Services are beginning to retu...  negative\n",
       "2359  ⚠️#TLUpdates - Train services running through ...   neutral\n",
       "2360  @LiveCommute @tlupdates @WorkerRailway @SaaSyS...  negative\n",
       "2361  @TLRailUK Hey, how do I do the ‘return unused ...   neutral\n",
       "2362  @TLRailUK @StPancrasInt SCREECHING is an excel...  negative\n",
       "\n",
       "[2363 rows x 2 columns]"
      ]
     },
     "execution_count": 11,
     "metadata": {},
     "output_type": "execute_result"
    }
   ],
   "source": [
    "test_nn = test.copy()\n",
    "#test_nn = cleanSentence(test_nn)\n",
    "test_nn"
   ]
  },
  {
   "cell_type": "code",
   "execution_count": 12,
   "id": "10e12d77-4ea4-4ad1-8976-3b1168fc7b78",
   "metadata": {},
   "outputs": [],
   "source": [
    "#X_train_nn = train_nn['text']\n",
    "#y_train_nn = train_nn['sentiment']\n",
    "\n",
    "X_test_nn = test_nn['text']\n",
    "y_test_nn = test_nn['sentiment']\n",
    "\n",
    "X_val_nn = validation_nn['text']\n",
    "y_val_nn = validation_nn['sentiment']"
   ]
  },
  {
   "cell_type": "markdown",
   "id": "656735fe-d076-425e-9767-6e97178fbfc5",
   "metadata": {
    "tags": []
   },
   "source": [
    "## Balancing"
   ]
  },
  {
   "cell_type": "code",
   "execution_count": 13,
   "id": "2574fc23-1836-4b5a-a272-e8df3378ca63",
   "metadata": {},
   "outputs": [
    {
     "name": "stdout",
     "output_type": "stream",
     "text": [
      "4164\n",
      "7049\n",
      "165\n"
     ]
    }
   ],
   "source": [
    "count_negative, count_neutral, count_positive = train_nn.sentiment.value_counts()\n",
    "\n",
    "print(count_neutral)\n",
    "print(count_negative)\n",
    "print(count_positive)"
   ]
  },
  {
   "cell_type": "code",
   "execution_count": 14,
   "id": "b9df802c-46c6-42f3-ade8-fbac410b492e",
   "metadata": {},
   "outputs": [],
   "source": [
    "df_neutral = train_nn[train_nn['sentiment'] == 'neutral']\n",
    "df_negative = train_nn[train_nn['sentiment'] == 'negative']\n",
    "df_positive= train_nn[train_nn['sentiment'] == 'positive']"
   ]
  },
  {
   "cell_type": "code",
   "execution_count": 15,
   "id": "aedb72cd-f98e-4085-b11b-6ffcad7ad66c",
   "metadata": {
    "tags": []
   },
   "outputs": [
    {
     "name": "stdout",
     "output_type": "stream",
     "text": [
      "Random over-sampling:\n",
      "negative    7049\n",
      "neutral     7049\n",
      "positive    7049\n",
      "Name: sentiment, dtype: int64\n"
     ]
    },
    {
     "data": {
      "text/html": [
       "<div>\n",
       "<style scoped>\n",
       "    .dataframe tbody tr th:only-of-type {\n",
       "        vertical-align: middle;\n",
       "    }\n",
       "\n",
       "    .dataframe tbody tr th {\n",
       "        vertical-align: top;\n",
       "    }\n",
       "\n",
       "    .dataframe thead th {\n",
       "        text-align: right;\n",
       "    }\n",
       "</style>\n",
       "<table border=\"1\" class=\"dataframe\">\n",
       "  <thead>\n",
       "    <tr style=\"text-align: right;\">\n",
       "      <th></th>\n",
       "      <th>text</th>\n",
       "      <th>sentiment</th>\n",
       "    </tr>\n",
       "  </thead>\n",
       "  <tbody>\n",
       "    <tr>\n",
       "      <th>0</th>\n",
       "      <td>⚠️ #TLUpdates - Due to a safety inspection of ...</td>\n",
       "      <td>negative</td>\n",
       "    </tr>\n",
       "    <tr>\n",
       "      <th>1</th>\n",
       "      <td>@TLRailUK On the announcement we were told tha...</td>\n",
       "      <td>negative</td>\n",
       "    </tr>\n",
       "    <tr>\n",
       "      <th>4</th>\n",
       "      <td>@TLRailUK I think a bit before Mill Hill, but ...</td>\n",
       "      <td>negative</td>\n",
       "    </tr>\n",
       "    <tr>\n",
       "      <th>7</th>\n",
       "      <td>@TLRailUK Every journey in high peak from Stev...</td>\n",
       "      <td>negative</td>\n",
       "    </tr>\n",
       "    <tr>\n",
       "      <th>8</th>\n",
       "      <td>In another grumble these @TLRailUK Siemens sea...</td>\n",
       "      <td>negative</td>\n",
       "    </tr>\n",
       "    <tr>\n",
       "      <th>...</th>\n",
       "      <td>...</td>\n",
       "      <td>...</td>\n",
       "    </tr>\n",
       "    <tr>\n",
       "      <th>2526</th>\n",
       "      <td>@TLRailUK @Barneteye Scenes. Thanks for replyi...</td>\n",
       "      <td>positive</td>\n",
       "    </tr>\n",
       "    <tr>\n",
       "      <th>2609</th>\n",
       "      <td>With 2,000 extra seats to and from the capital...</td>\n",
       "      <td>positive</td>\n",
       "    </tr>\n",
       "    <tr>\n",
       "      <th>9449</th>\n",
       "      <td>I just want to say thank you to the @LNRailway...</td>\n",
       "      <td>positive</td>\n",
       "    </tr>\n",
       "    <tr>\n",
       "      <th>5285</th>\n",
       "      <td>We’ve been supporting our client, Govia Thames...</td>\n",
       "      <td>positive</td>\n",
       "    </tr>\n",
       "    <tr>\n",
       "      <th>7839</th>\n",
       "      <td>@baynton @districtline @ltmuseum Oh! May I rec...</td>\n",
       "      <td>positive</td>\n",
       "    </tr>\n",
       "  </tbody>\n",
       "</table>\n",
       "<p>21147 rows × 2 columns</p>\n",
       "</div>"
      ],
      "text/plain": [
       "                                                   text sentiment\n",
       "0     ⚠️ #TLUpdates - Due to a safety inspection of ...  negative\n",
       "1     @TLRailUK On the announcement we were told tha...  negative\n",
       "4     @TLRailUK I think a bit before Mill Hill, but ...  negative\n",
       "7     @TLRailUK Every journey in high peak from Stev...  negative\n",
       "8     In another grumble these @TLRailUK Siemens sea...  negative\n",
       "...                                                 ...       ...\n",
       "2526  @TLRailUK @Barneteye Scenes. Thanks for replyi...  positive\n",
       "2609  With 2,000 extra seats to and from the capital...  positive\n",
       "9449  I just want to say thank you to the @LNRailway...  positive\n",
       "5285  We’ve been supporting our client, Govia Thames...  positive\n",
       "7839  @baynton @districtline @ltmuseum Oh! May I rec...  positive\n",
       "\n",
       "[21147 rows x 2 columns]"
      ]
     },
     "execution_count": 15,
     "metadata": {},
     "output_type": "execute_result"
    }
   ],
   "source": [
    "## Oversample positive-class and concat the DataFrames of three classes\n",
    "df_positive_over = df_positive.sample(count_negative, replace=True)\n",
    "df_neutral_over = df_neutral.sample(count_negative, replace=True)\n",
    "df_test_over = pd.concat([df_negative, df_neutral_over, df_positive_over], axis=0)\n",
    "\n",
    "print('Random over-sampling:')\n",
    "print(df_test_over.sentiment.value_counts())\n",
    "df_test_over"
   ]
  },
  {
   "cell_type": "code",
   "execution_count": 16,
   "id": "0f08eddd-dab5-43d6-a9c7-63f367e99fec",
   "metadata": {},
   "outputs": [],
   "source": [
    "X_train_nn = df_test_over['text']\n",
    "y_train_nn = df_test_over['sentiment']"
   ]
  },
  {
   "cell_type": "markdown",
   "id": "96c10d24-1339-4a67-8513-0c3fbbf87923",
   "metadata": {},
   "source": [
    "## Tokenization"
   ]
  },
  {
   "cell_type": "code",
   "execution_count": 17,
   "id": "42daf0d3-2482-464c-9b64-a1076a2fc8cc",
   "metadata": {},
   "outputs": [],
   "source": [
    "#build the dictionary\n",
    "\n",
    "tokenizer = Tokenizer()\n",
    "tokenizer.fit_on_texts(X_train_nn) #run through every tweet in training set to get the words in each tweet to build the dictionary later on\n",
    "\n",
    "x_train = tokenizer.texts_to_sequences(X_train_nn) #transform words into numbers \n",
    "x_test = tokenizer.texts_to_sequences(X_test_nn) #transform words into numbers \n",
    "x_val = tokenizer.texts_to_sequences(X_val_nn) #transform words into numbers \n",
    "\n",
    "\n",
    "vocab_size = len(tokenizer.word_index) + 1  # Adding 1 because of reserved 0 index"
   ]
  },
  {
   "cell_type": "code",
   "execution_count": 18,
   "id": "81256063-0386-4287-92b9-0fef7ae4dd7f",
   "metadata": {},
   "outputs": [
    {
     "name": "stdout",
     "output_type": "stream",
     "text": [
      "⚠️ #TLUpdates - Due to a safety inspection of the track being undertaken by Network Rail at Norwood Junction, services are subject to delay or cancellation. ℹ️ More details to follow once we have it.\n",
      "[215, 59, 31, 2, 6, 966, 2175, 11, 1, 442, 68, 7708, 63, 348, 157, 10, 870, 666, 50, 21, 273, 2, 58, 56, 493, 290, 61, 532, 2, 592, 458, 55, 26, 23]\n"
     ]
    }
   ],
   "source": [
    "print(X_train_nn[0])\n",
    "print(x_train[0])"
   ]
  },
  {
   "cell_type": "markdown",
   "id": "7ddb053d-ec2f-4835-84aa-470fbefe20ed",
   "metadata": {},
   "source": [
    "## Padding"
   ]
  },
  {
   "cell_type": "code",
   "execution_count": 19,
   "id": "86c3c142-425c-4733-bd6f-70d4519b23c3",
   "metadata": {},
   "outputs": [
    {
     "name": "stdout",
     "output_type": "stream",
     "text": [
      "Max len: 91\n"
     ]
    }
   ],
   "source": [
    "lens_train = [len(i) for i in x_train]\n",
    "lens_test = [len(i) for i in x_test]\n",
    "lens_val = [len(i) for i in x_val]\n",
    "lens = lens_train + lens_test + lens_val\n",
    "\n",
    "maxlen = np.max(lens)\n",
    "\n",
    "print('Max len:', maxlen)"
   ]
  },
  {
   "cell_type": "code",
   "execution_count": 20,
   "id": "c38aaef0-6f1a-489c-9a51-e72ab9fbc6ea",
   "metadata": {},
   "outputs": [],
   "source": [
    "x_train = pad_sequences(x_train, padding='post', maxlen=maxlen)\n",
    "x_test = pad_sequences(x_test, padding='post', maxlen=maxlen)\n",
    "x_val = pad_sequences(x_val, padding='post', maxlen=maxlen)"
   ]
  },
  {
   "cell_type": "markdown",
   "id": "104ad8be-6f8c-48ad-a14e-08400a0b2701",
   "metadata": {},
   "source": [
    "## Label Encoding"
   ]
  },
  {
   "cell_type": "code",
   "execution_count": 21,
   "id": "df918f12-0f0d-4c07-b9f2-df009bafef5c",
   "metadata": {},
   "outputs": [],
   "source": [
    "encoder = LabelEncoder()\n",
    "encoder.fit(y_train_nn)\n",
    "\n",
    "encoded_Y_train = encoder.transform(y_train_nn)\n",
    "encoded_Y_test = encoder.transform(y_test_nn)\n",
    "encoded_Y_val = encoder.transform(y_val_nn)\n",
    "\n",
    "\n",
    "# convert integers to dummy variables (i.e. one hot encoded)\n",
    "dummy_y_train = np_utils.to_categorical(encoded_Y_train)\n",
    "dummy_y_test = np_utils.to_categorical(encoded_Y_test)\n",
    "dummy_y_val = np_utils.to_categorical(encoded_Y_val)"
   ]
  },
  {
   "cell_type": "markdown",
   "id": "30d376c5-971b-4fee-a781-0c01efe10e06",
   "metadata": {},
   "source": [
    "## Modelling"
   ]
  },
  {
   "cell_type": "code",
   "execution_count": 22,
   "id": "b870e19b-215e-4cbe-b600-ab08d80aa56c",
   "metadata": {},
   "outputs": [
    {
     "name": "stdout",
     "output_type": "stream",
     "text": [
      "Model: \"sequential\"\n",
      "_________________________________________________________________\n",
      " Layer (type)                Output Shape              Param #   \n",
      "=================================================================\n",
      " embedding (Embedding)       (None, 91, 500)           8851500   \n",
      "                                                                 \n",
      " dropout (Dropout)           (None, 91, 500)           0         \n",
      "                                                                 \n",
      " global_max_pooling1d (Globa  (None, 500)              0         \n",
      " lMaxPooling1D)                                                  \n",
      "                                                                 \n",
      " dropout_1 (Dropout)         (None, 500)               0         \n",
      "                                                                 \n",
      " dense (Dense)               (None, 256)               128256    \n",
      "                                                                 \n",
      " dropout_2 (Dropout)         (None, 256)               0         \n",
      "                                                                 \n",
      " dense_1 (Dense)             (None, 512)               131584    \n",
      "                                                                 \n",
      " dropout_3 (Dropout)         (None, 512)               0         \n",
      "                                                                 \n",
      " dense_2 (Dense)             (None, 3)                 1539      \n",
      "                                                                 \n",
      "=================================================================\n",
      "Total params: 9,112,879\n",
      "Trainable params: 9,112,879\n",
      "Non-trainable params: 0\n",
      "_________________________________________________________________\n"
     ]
    }
   ],
   "source": [
    "embedding_dim = 500  # vector representation of words/neuron amount after the input https://datascience.stackexchange.com/questions/53995/what-does-embedding-mean-in-machine-learning#:~:text=In%20the%20context%20of%20machine,with%20other%20models%20as%20well.\n",
    "\n",
    "model = Sequential()  # initiates the model\n",
    "model.add(layers.Embedding(input_dim=vocab_size,  # adds the first [input] layer which will be our tokenized tweets\n",
    "                          output_dim=embedding_dim,  # the embedding of that tweet, essentially inputs output\n",
    "                          input_length=maxlen))  # size of the input layer determined by maxlen calculated before\n",
    "#model.add(layers.LSTM(100,dropout=0.1, return_sequences=True))\n",
    "#model.add(layers.LSTM(100,dropout=0.1))\n",
    "model.add(layers.Dropout(0.2))  # dorpouts are added to help with overtraining, essentially \"turns off\" said amount of neurons before giving information to the next layer\n",
    "model.add(layers.GlobalMaxPool1D())  # https://computersciencewiki.org/index.php/Max-pooling_/_Pooling\n",
    "model.add(layers.Dropout(0.2))\n",
    "model.add(layers.Dense(256, activation='relu'))  # additional hidden layer\n",
    "model.add(layers.Dropout(0.2))\n",
    "model.add(layers.Dense(512, activation='relu'))\n",
    "model.add(layers.Dropout(0.2))\n",
    "model.add(layers.Dense(3, activation='sigmoid'))  # prediction layer, 3 is the number of classes we have\n",
    "model.compile(optimizer='adam',\n",
    "              loss='categorical_crossentropy',\n",
    "              metrics=['accuracy'])\n",
    "model.summary()"
   ]
  },
  {
   "cell_type": "code",
   "execution_count": 23,
   "id": "f02d6f89-62d7-4920-b67f-17b997b332e3",
   "metadata": {},
   "outputs": [
    {
     "name": "stdout",
     "output_type": "stream",
     "text": [
      "Epoch 1/2\n",
      "166/166 [==============================] - 49s 291ms/step - loss: 0.6297 - accuracy: 0.6533 - val_loss: 0.6429 - val_accuracy: 0.6778\n",
      "Epoch 2/2\n",
      "166/166 [==============================] - 51s 311ms/step - loss: 0.3133 - accuracy: 0.8557 - val_loss: 0.5947 - val_accuracy: 0.7236\n",
      "Training Accuracy: 0.9313\n",
      "Testing Accuracy:  0.7236\n"
     ]
    }
   ],
   "source": [
    "history = model.fit(x_train, dummy_y_train,\n",
    "                    epochs=2,  # times model will run through the data\n",
    "                    verbose=True,\n",
    "                    validation_data=(x_val, dummy_y_val), \n",
    "                    batch_size=128,\n",
    "                    shuffle=True)  # data is set to batches we are sent to the model to predict, imagine each batc as a step in which model tries to predict the class and then checks the right answer and corrects it's weights with backpropogation\n",
    "train_loss, train_accuracy = model.evaluate(x_train, dummy_y_train, verbose=False)\n",
    "print(\"Training Accuracy: {:.4f}\".format(train_accuracy))\n",
    "val_loss, val_accuracy = model.evaluate(x_val, dummy_y_val, verbose=False)\n",
    "print(\"Testing Accuracy:  {:.4f}\".format(val_accuracy))"
   ]
  },
  {
   "cell_type": "markdown",
   "id": "a1c4caec-5403-4f83-84ba-118795fdd919",
   "metadata": {},
   "source": [
    "## Evaluating Results"
   ]
  },
  {
   "cell_type": "code",
   "execution_count": 24,
   "id": "15bbe7e3-ef4b-49fa-9b0f-1a1e72a0aaa6",
   "metadata": {},
   "outputs": [],
   "source": [
    "plt.style.use('ggplot')\n",
    "\n",
    "def plot_history(history):\n",
    "    acc = history.history['accuracy']\n",
    "    val_acc = history.history['val_accuracy']\n",
    "    loss = history.history['loss']\n",
    "    val_loss = history.history['val_loss']\n",
    "    x = range(1, len(acc) + 1)\n",
    "\n",
    "    plt.figure(figsize=(12, 5))\n",
    "    plt.subplot(1, 2, 1)\n",
    "    plt.plot(x, acc, 'b', label='Training acc')\n",
    "    plt.plot(x, val_acc, 'r', label='Validation acc')\n",
    "    plt.title('Training and validation accuracy')\n",
    "    plt.legend()\n",
    "    plt.subplot(1, 2, 2)\n",
    "    plt.plot(x, loss, 'b', label='Training loss')\n",
    "    plt.plot(x, val_loss, 'r', label='Validation loss')\n",
    "    plt.title('Training and validation loss')\n",
    "    plt.legend()"
   ]
  },
  {
   "cell_type": "code",
   "execution_count": 25,
   "id": "9a8e399f-bfc5-4a4b-a729-2fc182fdd3df",
   "metadata": {},
   "outputs": [
    {
     "data": {
      "image/png": "[encoded data removed]",
      "text/plain": [
       "<Figure size 1200x500 with 2 Axes>"
      ]
     },
     "metadata": {},
     "output_type": "display_data"
    }
   ],
   "source": [
    "plot_history(history)"
   ]
  },
  {
   "cell_type": "markdown",
   "id": "f3dbe1b3-31dc-486c-8250-236c6d20cac4",
   "metadata": {},
   "source": [
    "## Confusion matrix"
   ]
  },
  {
   "cell_type": "code",
   "execution_count": 26,
   "id": "9922e2f4-8d21-479c-a6a4-06aac26635ba",
   "metadata": {},
   "outputs": [
    {
     "data": {
      "text/plain": [
       "array(['negative', 'neutral', 'positive'], dtype=object)"
      ]
     },
     "execution_count": 26,
     "metadata": {},
     "output_type": "execute_result"
    }
   ],
   "source": [
    "encoder.classes_"
   ]
  },
  {
   "cell_type": "code",
   "execution_count": 27,
   "id": "f62a14eb-dbf7-4205-b42b-2d11ae0e7cb7",
   "metadata": {},
   "outputs": [
    {
     "name": "stdout",
     "output_type": "stream",
     "text": [
      "74/74 [==============================] - 0s 5ms/step\n"
     ]
    },
    {
     "data": {
      "text/plain": [
       "array([[0.8421693 , 0.96430004, 0.00135513],\n",
       "       [0.85573894, 0.6833707 , 0.0347217 ],\n",
       "       [0.9633936 , 0.57732654, 0.00926566],\n",
       "       ...,\n",
       "       [0.9367269 , 0.8575863 , 0.00272802],\n",
       "       [0.96448123, 0.82591593, 0.00172613],\n",
       "       [0.9665909 , 0.7151893 , 0.00378835]], dtype=float32)"
      ]
     },
     "execution_count": 27,
     "metadata": {},
     "output_type": "execute_result"
    }
   ],
   "source": [
    "y_pred = model.predict(x_test)\n",
    "y_pred"
   ]
  },
  {
   "cell_type": "code",
   "execution_count": 28,
   "id": "5a1d3368-2a6b-4ff1-935b-3e4a7d618c86",
   "metadata": {},
   "outputs": [
    {
     "name": "stdout",
     "output_type": "stream",
     "text": [
      "....\n",
      "--------------------------------------------------------------------------------\n",
      "Accuracy: 72.20 %\n",
      "Precision: 71.74 %\n",
      "Recall: 72.20 %\n",
      "--------------------------------------------------------------------------------\n",
      "Confusion Matrix\n",
      "\n",
      "          predicted neutral  predicted negative  predicted positive\n",
      "neutral                 448                 417                   0\n",
      "negative                214                1249                   1\n",
      "positive                  9                  16                   9\n",
      "--------------------------------------------------------------------------------\n"
     ]
    }
   ],
   "source": [
    "#y_predDecoded = [encoder.classes_[np.argmax(i)] for i in y_pred]  \n",
    "#cm = confusion_matrix(y_test_nn, y_predDecoded, labels=test.sentiment.unique())  # same confusion matrix code as in Logistic Regression\n",
    "#df_cm = pd.DataFrame(cm, index=test.sentiment.unique(), columns=test.sentiment.unique())\n",
    "#df_cm\n",
    "\n",
    "y_predDecoded = [encoder.classes_[np.argmax(i)] for i in y_pred] # here we get the max probability from those arrays and then based on that select which class is it.\n",
    "test_loss, test_accuracy = model.evaluate(x_test, dummy_y_test, verbose=False)\n",
    "print('....')\n",
    "print(\"-\"*80)\n",
    "print('Accuracy: %.2f' %(test_accuracy*100),'%')\n",
    "\n",
    "#precision and recall\n",
    "print('Precision: %.2f' %(precision_score(y_test_nn, y_predDecoded, average='weighted')*100),'%')\n",
    "print('Recall: %.2f' %(recall_score(y_test_nn, y_predDecoded, average='weighted')*100),'%')\n",
    "\n",
    "#confusion matrix on test set\n",
    "cm = confusion_matrix(y_test_nn, y_predDecoded, labels=test.sentiment.unique()) # same confusion matrix code as in Logistic Regression\n",
    "confusionMatrix_df = pd.DataFrame(cm, index=test.sentiment.unique(), \\\n",
    "                                  columns=['predicted neutral','predicted negative','predicted positive'])\n",
    "print (\"-\"*80)\n",
    "print (\"Confusion Matrix\\n\")\n",
    "print (confusionMatrix_df)\n",
    "print (\"-\"*80)"
   ]
  }
 ],
 "metadata": {
  "kernelspec": {
   "display_name": "Python 3 (ipykernel)",
   "language": "python",
   "name": "python3"
  },
  "language_info": {
   "codemirror_mode": {
    "name": "ipython",
    "version": 3
   },
   "file_extension": ".py",
   "mimetype": "text/x-python",
   "name": "python",
   "nbconvert_exporter": "python",
   "pygments_lexer": "ipython3",
   "version": "3.9.13"
  },
  "vscode": {
   "interpreter": {
    "hash": "ad2bdc8ecc057115af97d19610ffacc2b4e99fae6737bb82f5d7fb13d2f2c186"
   }
  }
 },
 "nbformat": 4,
 "nbformat_minor": 5
}
